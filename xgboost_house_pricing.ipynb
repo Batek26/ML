{
  "metadata": {
    "kernelspec": {
      "language": "python",
      "display_name": "Python 3",
      "name": "python3"
    },
    "language_info": {
      "name": "python",
      "version": "3.7.12",
      "mimetype": "text/x-python",
      "codemirror_mode": {
        "name": "ipython",
        "version": 3
      },
      "pygments_lexer": "ipython3",
      "nbconvert_exporter": "python",
      "file_extension": ".py"
    },
    "colab": {
      "name": "xgboost-house-pricing.ipynb",
      "provenance": []
    }
  },
  "nbformat_minor": 0,
  "nbformat": 4,
  "cells": [
    {
      "cell_type": "code",
      "source": [
        "import pandas as pd\n",
        "from sklearn.model_selection import train_test_split\n",
        "\n",
        "# Read the data\n",
        "X = pd.read_csv('train_house_pricing.csv', index_col='Id')\n",
        "X_test_full = pd.read_csv('test_house_pricing.csv', index_col='Id')\n",
        "\n",
        "# Remove rows with missing target, separate target from predictors\n",
        "X.dropna(axis=0, subset=['SalePrice'], inplace=True)\n",
        "y = X.SalePrice              \n",
        "X.drop(['SalePrice'], axis=1, inplace=True)\n",
        "\n",
        "# Break off validation set from training data\n",
        "X_train_full, X_valid_full, y_train, y_valid = train_test_split(X, y, train_size=0.8, test_size=0.2,\n",
        "                                                                random_state=0)\n",
        "\n",
        "# \"Cardinality\" means the number of unique values in a column\n",
        "# Select categorical columns with relatively low cardinality\n",
        "low_cardinality_cols = [cname for cname in X_train_full.columns if X_train_full[cname].nunique() < 10 and \n",
        "                        X_train_full[cname].dtype == \"object\"]\n",
        "\n",
        "# Select numeric columns\n",
        "numeric_cols = [cname for cname in X_train_full.columns if X_train_full[cname].dtype in ['int64', 'float64']]\n",
        "\n",
        "# Keep selected columns only\n",
        "my_cols = low_cardinality_cols + numeric_cols\n",
        "X_train = X_train_full[my_cols].copy()\n",
        "X_valid = X_valid_full[my_cols].copy()\n",
        "X_test = X_test_full[my_cols].copy()\n",
        "\n",
        "# One-hot encode the data\n",
        "X_train = pd.get_dummies(X_train)\n",
        "X_valid = pd.get_dummies(X_valid)\n",
        "X_test = pd.get_dummies(X_test)\n",
        "X_train, X_valid = X_train.align(X_valid, join='left', axis=1)\n",
        "X_train, X_test = X_train.align(X_test, join='left', axis=1)"
      ],
      "metadata": {
        "execution": {
          "iopub.status.busy": "2022-08-25T14:50:48.381213Z",
          "iopub.execute_input": "2022-08-25T14:50:48.381619Z",
          "iopub.status.idle": "2022-08-25T14:50:48.641803Z",
          "shell.execute_reply.started": "2022-08-25T14:50:48.381586Z",
          "shell.execute_reply": "2022-08-25T14:50:48.640528Z"
        },
        "trusted": true,
        "id": "xU1Qm6K8fOvf"
      },
      "execution_count": null,
      "outputs": []
    },
    {
      "cell_type": "code",
      "source": [
        "X.head()"
      ],
      "metadata": {
        "execution": {
          "iopub.status.busy": "2022-08-25T14:50:54.122425Z",
          "iopub.execute_input": "2022-08-25T14:50:54.122870Z",
          "iopub.status.idle": "2022-08-25T14:50:54.157591Z",
          "shell.execute_reply.started": "2022-08-25T14:50:54.122829Z",
          "shell.execute_reply": "2022-08-25T14:50:54.156416Z"
        },
        "trusted": true,
        "id": "RP9MWWGvfOvg"
      },
      "execution_count": null,
      "outputs": []
    },
    {
      "cell_type": "code",
      "source": [
        "from xgboost import XGBRegressor\n",
        "from sklearn.metrics import mean_absolute_error\n",
        "\n",
        "# Define the model\n",
        "my_model = XGBRegressor(n_estimators=500, learning_rate=0.05, random_state=0) \n",
        "\n",
        "# Fit the model\n",
        "my_model.fit(X_train, y_train, \n",
        "             early_stopping_rounds=5, \n",
        "             eval_set=[(X_valid, y_valid)], \n",
        "             verbose=False)\n",
        "\n",
        "# Predictions\n",
        "predictions = my_model.predict(X_valid)\n",
        "\n",
        "# Calculate MAE\n",
        "mae = mean_absolute_error(predictions, y_valid)\n",
        "print(\"Mean Absolute Error:\" , mae)"
      ],
      "metadata": {
        "execution": {
          "iopub.status.busy": "2022-08-25T14:15:28.936707Z",
          "iopub.execute_input": "2022-08-25T14:15:28.937120Z",
          "iopub.status.idle": "2022-08-25T14:15:31.741744Z",
          "shell.execute_reply.started": "2022-08-25T14:15:28.937085Z",
          "shell.execute_reply": "2022-08-25T14:15:31.740662Z"
        },
        "trusted": true,
        "colab": {
          "base_uri": "https://localhost:8080/"
        },
        "id": "sElmr2K7fOvg",
        "outputId": "06591fe6-0ac8-4ec4-c527-9080437a1919"
      },
      "execution_count": null,
      "outputs": [
        {
          "output_type": "stream",
          "name": "stdout",
          "text": [
            "[14:56:10] WARNING: /workspace/src/objective/regression_obj.cu:152: reg:linear is now deprecated in favor of reg:squarederror.\n",
            "Mean Absolute Error: 16751.568760702055\n"
          ]
        }
      ]
    },
    {
      "cell_type": "code",
      "source": [
        "#Prediction test\n",
        "preds_test = my_model.predict(X_test)\n",
        "\n",
        "output = pd.DataFrame({'Id': X_test.index,\n",
        "                       'SalePrice': preds_test})\n",
        "output.to_csv('submission.csv', index=False)"
      ],
      "metadata": {
        "execution": {
          "iopub.status.busy": "2022-08-24T16:50:57.150651Z",
          "iopub.execute_input": "2022-08-24T16:50:57.151341Z",
          "iopub.status.idle": "2022-08-24T16:50:57.184997Z",
          "shell.execute_reply.started": "2022-08-24T16:50:57.151273Z",
          "shell.execute_reply": "2022-08-24T16:50:57.184054Z"
        },
        "trusted": true,
        "id": "5SB2YoTZfOvi"
      },
      "execution_count": null,
      "outputs": []
    }
  ]
}